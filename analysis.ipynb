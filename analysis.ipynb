{
 "cells": [
  {
   "cell_type": "code",
   "execution_count": 1,
   "metadata": {},
   "outputs": [],
   "source": [
    "import pyspark\n",
    "from pyspark.sql import SparkSession\n",
    "from pyspark import SparkContext\n",
    "import pyspark.sql.functions as F\n",
    "import os"
   ]
  },
  {
   "cell_type": "code",
   "execution_count": 2,
   "metadata": {},
   "outputs": [
    {
     "name": "stderr",
     "output_type": "stream",
     "text": [
      "your 131072x1 screen size is bogus. expect trouble\n",
      "24/01/28 17:18:16 WARN Utils: Your hostname, DESKTOP-RPDLSP7 resolves to a loopback address: 127.0.1.1; using 172.17.212.36 instead (on interface eth0)\n",
      "24/01/28 17:18:16 WARN Utils: Set SPARK_LOCAL_IP if you need to bind to another address\n",
      "Setting default log level to \"WARN\".\n",
      "To adjust logging level use sc.setLogLevel(newLevel). For SparkR, use setLogLevel(newLevel).\n",
      "24/01/28 17:18:18 WARN NativeCodeLoader: Unable to load native-hadoop library for your platform... using builtin-java classes where applicable\n"
     ]
    }
   ],
   "source": [
    "spark = SparkSession.builder \\\n",
    "    .appName(\"pytest_pyspark\") \\\n",
    "    .enableHiveSupport() \\\n",
    "    .getOrCreate()"
   ]
  },
  {
   "cell_type": "code",
   "execution_count": 4,
   "metadata": {},
   "outputs": [
    {
     "name": "stdout",
     "output_type": "stream",
     "text": [
      "root\n",
      " |-- airline: string (nullable = true)\n",
      " |-- origin_city: string (nullable = true)\n",
      " |-- destination_city: string (nullable = true)\n",
      " |-- passenger_name: string (nullable = true)\n",
      " |-- passenger_id: integer (nullable = true)\n",
      "\n"
     ]
    }
   ],
   "source": [
    "df = spark.read.option(\"header\",True).option(\"inferSchema\",True).csv(os.getcwd() + \"/tests/data/input/passenger_dataset.csv\")\n",
    "df.printSchema()"
   ]
  },
  {
   "cell_type": "code",
   "execution_count": 5,
   "metadata": {},
   "outputs": [
    {
     "data": {
      "text/plain": [
       "False"
      ]
     },
     "execution_count": 5,
     "metadata": {},
     "output_type": "execute_result"
    }
   ],
   "source": [
    "# Test case 1: Passenger IDs should not be NULL\n",
    "df.select(\"passenger_id\").filter(\"passenger_id is null\").count() == 0"
   ]
  },
  {
   "cell_type": "code",
   "execution_count": 9,
   "metadata": {},
   "outputs": [
    {
     "data": {
      "text/plain": [
       "108"
      ]
     },
     "execution_count": 9,
     "metadata": {},
     "output_type": "execute_result"
    }
   ],
   "source": [
    "# Test case 2: One passenger has a unique record for every airline route\n",
    "df \\\n",
    ".select(\"passenger_id\",\"airline\") \\\n",
    ".filter(\"passenger_id is not null\") \\\n",
    ".groupBy(\"airline\",\"passenger_id\") \\\n",
    ".count() \\\n",
    ".filter(\"count > 1\") \\\n",
    ".count()"
   ]
  },
  {
   "cell_type": "code",
   "execution_count": 22,
   "metadata": {},
   "outputs": [
    {
     "name": "stdout",
     "output_type": "stream",
     "text": [
      "True\n",
      "True\n",
      "True\n"
     ]
    }
   ],
   "source": [
    "# Test case 3: Every origin city must have same destination city\n",
    "route_map = {\n",
    "    \"Mumbai\": \"Dubai\",\n",
    "    \"Singapore\": \"Tokyo\",\n",
    "    \"Berlin\": \"New York\"\n",
    "}\n",
    "for origin, dest in route_map.items():\n",
    "    check_origin = df \\\n",
    "    .select(\"origin_city\",\"destination_city\") \\\n",
    "    .filter(f\"origin_city == '{origin}'\") \\\n",
    "    .select(\"destination_city\") \\\n",
    "    .distinct() \\\n",
    "    .collect()[0][0] \n",
    "    print(check_origin == dest)\n"
   ]
  },
  {
   "cell_type": "code",
   "execution_count": 13,
   "metadata": {},
   "outputs": [
    {
     "data": {
      "text/plain": [
       "0"
      ]
     },
     "execution_count": 13,
     "metadata": {},
     "output_type": "execute_result"
    }
   ],
   "source": [
    "# Test case 4: List of 300 passengers matching for Airline A\n",
    "input_df = (\n",
    "    df\n",
    "    .select(\"airline\", \"origin_city\", \"destination_city\", \"passenger_name\")\n",
    "    .filter(\"airline == 'Airline A'\")\n",
    "    .orderBy(\"passenger_name\")\n",
    ")\n",
    "expected_df = (\n",
    "    spark\n",
    "    .read\n",
    "    .option(\"header\",True)\n",
    "    .option(\"inferSchema\",True)\n",
    "    .csv(os.getcwd() + \"/tests/data/expected/airline_a_passengers.csv\")\n",
    "    .orderBy(\"passenger_name\")\n",
    ")\n",
    "diff_df = input_df.exceptAll(expected_df)\n",
    "diff_df.count()"
   ]
  }
 ],
 "metadata": {
  "kernelspec": {
   "display_name": "Python 3",
   "language": "python",
   "name": "python3"
  },
  "language_info": {
   "codemirror_mode": {
    "name": "ipython",
    "version": 3
   },
   "file_extension": ".py",
   "mimetype": "text/x-python",
   "name": "python",
   "nbconvert_exporter": "python",
   "pygments_lexer": "ipython3",
   "version": "3.10.12"
  }
 },
 "nbformat": 4,
 "nbformat_minor": 2
}
